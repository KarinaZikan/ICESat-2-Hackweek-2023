{
 "cells": [
  {
   "cell_type": "markdown",
   "id": "suffering-union",
   "metadata": {
    "user_expressions": []
   },
   "source": [
    "# Snow Depth - ICESat-2 Applications Tutorial\n",
    "\n",
    "```{admonition} Learning Objectives\n",
    "**This is a placeholder Notebook for the snow depth tutorial**\n",
    "- gain experience in working with SlideRule to access and pre-process ICESat-2 data\n",
    "- learn how use projections and interpolation to compare ICESat-2 track data with gridded raster products\n",
    "- develop a general understanding of how to measure snow depths with LiDAR, and learn about opportunities and challenges when using ICEsat-2 along-track products\n",
    "```"
   ]
  },
  {
   "cell_type": "markdown",
   "id": "649d863c-5ad1-4b9f-9fa0-416ff04396a4",
   "metadata": {},
   "source": [
    "## Computing environment\n",
    "\n",
    "We'll be using the following open source Python libraries in this notebook:"
   ]
  },
  {
   "cell_type": "code",
   "execution_count": null,
   "id": "2a5720d5-d805-4c24-a92e-a2238805cdbf",
   "metadata": {},
   "outputs": [],
   "source": [
    "import ipyleaflet\n",
    "from ipyleaflet import Map, Rectangle, basemaps, basemap_to_tiles, TileLayer, SplitMapControl, Polygon\n",
    "\n",
    "import ipywidgets\n",
    "import datetime\n",
    "import re\n",
    "\n",
    "# maybe the ones below??\n",
    "import rioxarray\n",
    "import geopandas as gpd\n",
    "import matplotlib.pyplot as plt\n",
    "from pyproj import CRS\n",
    "from sliderule import sliderule, icesat2, earthdata, h5"
   ]
  },
  {
   "cell_type": "markdown",
   "id": "deb53c4b-34b2-4a51-a1d1-ec317a9f27e2",
   "metadata": {
    "tags": [],
    "user_expressions": []
   },
   "source": [
    "## Draft outline:\n",
    "\n",
    "Background:\n",
    "- How do we measure snow depth with lidar\n",
    "- How do we measure snow depth with ICESat-2 specifically\n",
    "- What challenges do we need to think about\n",
    "    - Comparing a raster to an IS-2 transect\n",
    "    - Geolocation\n",
    "    - Vegetation, slope affects\n",
    "- What do we need\n",
    "    - A region of interest\n",
    "    - ICESat-2 data\n",
    "    - A snow-free reference DEM\n",
    "        \n",
    "Define ROI:\n",
    "- Define bounding box\n",
    "- Plot box over satellite image? Map showing location of ROI?\n",
    "    \n",
    "Calculate ATL06:\n",
    "- Talk a little about why were using ALT06 (presuming we decide to use ATL06)\n",
    "- Set Parameters\n",
    "    - Talk a little about the parameters, provide link to more detailed info from SlideRule website\n",
    "- Show code cell to calculate ICESat-2 data for demonstration\n",
    "- Read in previously calculated data\n",
    "- Plot ICESat-2 tracks on ROI, height colorbar?\n",
    "    \n",
    "Pull DEM:\n",
    "- Talk about raster data?\n",
    "- Show code cell to pull 3DEP data for demonstration purposes\n",
    "- Read in previously downloaded DEM\n",
    "- Plot\n",
    "    \n",
    "Compare IS-2 and DEM:\n",
    "\t- Remind audience that we need to process the raster data to be comparable to a point transect\n",
    "\t- Integrate DEM (mention that there are a number of ways to do this, we are showing a simple way for time)\n",
    "\t- Plot snow depths"
   ]
  },
  {
   "cell_type": "markdown",
   "id": "d73344a2-f797-4218-a99f-a9db0338f002",
   "metadata": {
    "tags": [],
    "user_expressions": []
   },
   "source": [
    "## Data\n",
    "\n",
    "Use SlideRule to acquire ATL06 data as well as the gridded data, noting customization for averaging footprint, photon identification: this will be a modified ATL06 download that includes some vegetation filtering\n",
    "\n",
    "\n",
    "**Data considerations:**\n",
    "\n",
    "pre-download the demonstration files to the CryoHub checking in on maximum file size - try to keep the region of interest relatively small for the tutorial? @zachghiaccio to contact CryoHub folks\n",
    "checking to see if SlideRule can be used to acquire the gridded DEM @KarinaZikan."
   ]
  },
  {
   "cell_type": "code",
   "execution_count": null,
   "id": "2198d7df-b3d2-476e-b7f3-1169c2e9c539",
   "metadata": {},
   "outputs": [],
   "source": [
    "# Initialize SlideRule\n",
    "icesat2.init(\"slideruleearth.io\")"
   ]
  },
  {
   "cell_type": "code",
   "execution_count": null,
   "id": "25d3065f-2a34-41e6-a845-604a3d1e0d01",
   "metadata": {},
   "outputs": [],
   "source": [
    "# Define region of interest over ACP, Alaska\n",
    "region = [ {\"lon\":-148.85, \"lat\": 69.985},\n",
    "           {\"lon\":-148.527, \"lat\": 69.985},\n",
    "           {\"lon\":-148.527, \"lat\": 70.111},\n",
    "           {\"lon\":-148.85, \"lat\": 70.111},\n",
    "           {\"lon\":-148.85, \"lat\": 69.985} ]\n",
    "\n",
    "# Alternate method, with geoJSON\n",
    "#path = '/home/jovyan/ICESat-2-Hackweek-2023/book/tutorials/applications-snow-depth/'\n",
    "#region = icesat2.toregion(f'{path}acp_lidar_box.geojson')[\"poly\"]"
   ]
  },
  {
   "cell_type": "code",
   "execution_count": null,
   "id": "a36ae02f-1e4c-4eb3-b350-14cb881179f2",
   "metadata": {},
   "outputs": [],
   "source": [
    "# Build SlideRule request\n",
    "parms = {\n",
    "    \"poly\": region,\n",
    "    \"srt\": icesat2.SRT_LAND,\n",
    "    \"cnf\": icesat2.CNF_SURFACE_HIGH,\n",
    "    \"atl08_class\": [\"atl08_ground\"],\n",
    "    \"ats\": 5.0,\n",
    "    \"len\": 20.0,\n",
    "    \"res\": 10.0,\n",
    "    \"maxi\": 5\n",
    "}\n",
    "\n",
    "is2_df = icesat2.atl06p(parms, \"nsidc-s3\")\n",
    "\n",
    "is2_df.head()"
   ]
  },
  {
   "cell_type": "markdown",
   "id": "fd227bb3-0063-4bf1-a999-53569d222a3b",
   "metadata": {
    "user_expressions": []
   },
   "source": [
    "## sample the DTM to ICESat-2 ground track \n",
    "mention importance of geolocation errors and choice of interpolation"
   ]
  },
  {
   "cell_type": "markdown",
   "id": "115bb16c-11e0-4ff1-9928-fb50a7f15293",
   "metadata": {
    "user_expressions": []
   },
   "source": [
    "## differencing to get a snowdepth\n"
   ]
  },
  {
   "cell_type": "markdown",
   "id": "0cec5b00-b5e3-49aa-be49-0edf13bee2e5",
   "metadata": {
    "tags": [],
    "user_expressions": []
   },
   "source": [
    "## visualize the result"
   ]
  },
  {
   "cell_type": "markdown",
   "id": "5b99d916-deb8-4af0-9fce-1e38e5c18d87",
   "metadata": {},
   "source": [
    "## Interactive visualization\n",
    "\n",
    "The ipyleaflet library allows us to create interactive map visualizations. Below we define a geographic bounding box for our area of interest, and plot it on an interactive \"slippy map\"."
   ]
  },
  {
   "cell_type": "code",
   "execution_count": null,
   "id": "equipped-qualification",
   "metadata": {},
   "outputs": [],
   "source": [
    "bbox = [-108.3, 39.2, -107.8, 38.8]\n",
    "west, north, east, south = bbox\n",
    "bbox_ctr = [0.5*(north+south), 0.5*(west+east)]"
   ]
  },
  {
   "cell_type": "markdown",
   "id": "stylish-wildlife",
   "metadata": {},
   "source": [
    "Display the bounding box on an interactive basemap for context. All the available basemaps can be found in the [ipyleaflet documentation](https://ipyleaflet.readthedocs.io/en/latest/api_reference/basemaps.html)"
   ]
  },
  {
   "cell_type": "code",
   "execution_count": null,
   "id": "durable-strength",
   "metadata": {},
   "outputs": [],
   "source": [
    "m = Map(center=bbox_ctr, zoom=10)\n",
    "rectangle = Rectangle(bounds=((south, west), (north, east))) #SW and NE corners of the rectangle (lat, lon)\n",
    "m.add_layer(rectangle)\n",
    "m"
   ]
  },
  {
   "cell_type": "markdown",
   "id": "handy-watch",
   "metadata": {},
   "source": [
    "### NASA GIBS basemap\n",
    "\n",
    "NASA's [Global Imagery Browse Services (GIBS)](https://earthdata.nasa.gov/eosdis/science-system-description/eosdis-components/gibs) is a great Web Map Tile Service (WMTS) to visualize NASA data as pre-rendered tiled raster images. The NASA [Worldview](https://worldview.earthdata.nasa.gov) web application is a way to explore all GIBS datasets. We can also use ipyleaflet to explore GIBS datasets, like MODIS truecolor images, within a Jupyter Notebook. Use the slider in the image below to reveal the image from 2019-04-25:"
   ]
  },
  {
   "cell_type": "code",
   "execution_count": null,
   "id": "stylish-cincinnati",
   "metadata": {},
   "outputs": [],
   "source": [
    "m = Map(center=bbox_ctr, zoom=6)\n",
    "\n",
    "right_layer = basemap_to_tiles(basemaps.NASAGIBS.ModisTerraTrueColorCR, \"2019-04-25\")\n",
    "left_layer = TileLayer()\n",
    "control = SplitMapControl(left_layer=left_layer, right_layer=right_layer)\n",
    "m.add_control(control)\n",
    "\n",
    "m.add_layer(rectangle)\n",
    "\n",
    "m"
   ]
  },
  {
   "cell_type": "markdown",
   "id": "40bb26cf-5651-4424-bab0-89bdc0b69ff1",
   "metadata": {},
   "source": [
    "### Exercise 1\n",
    "\n",
    "Re-create the map above using different tile layers for both the right and left columns. Label a single point of interest with a marker, such as the city of Grand Junction, Colorado."
   ]
  },
  {
   "cell_type": "code",
   "execution_count": null,
   "id": "21ccf31e-1919-45c2-9796-26f7bac25520",
   "metadata": {},
   "outputs": [],
   "source": [
    "# Add your solution for exercise 1 here!"
   ]
  },
  {
   "cell_type": "markdown",
   "id": "surrounded-amateur",
   "metadata": {},
   "source": [
    "## Summary\n",
    "\n",
    " 🎉 Congratulations! You've completely this tutorial and have seen how we can add  notebook can be formatted, and how to create interactive map visualization with ipyleaflet.\n",
    " \n",
    "\n",
    "```{note}\n",
    "You may have noticed Jupyter Book adds some extra formatting features that do not necessarily render as you might expect when *executing* a noteook in Jupyter Lab. This \"admonition\" note is one such example.\n",
    "```\n",
    "\n",
    ":::{warning}\n",
    "Jupyter Book is very particular about [Markdown header ordering](https://jupyterbook.org/structure/sections-headers.html?highlight=headers#how-headers-and-sections-map-onto-to-book-structure) to automatically create table of contents on the website. In this tutorial we are careful to use a single main header (#) and sequential subheaders (#, ##, ###, etc.)\n",
    ":::"
   ]
  },
  {
   "cell_type": "markdown",
   "id": "749f5c79-19d7-48ac-9421-852c3c83cc5f",
   "metadata": {},
   "source": [
    "## References\n",
    "\n",
    "To further explore the topics of this tutorial see the following detailed documentation:\n",
    "\n",
    "* [Jupyter Book rendering of .ipynb notebooks](https://jupyterbook.org/file-types/notebooks.html)\n",
    "* [Jupyter Book guide on writing narrative content](https://jupyterbook.org/content/index.html)\n",
    "* [ipyleaflet documentation](https://ipyleaflet.readthedocs.io)"
   ]
  }
 ],
 "metadata": {
  "kernelspec": {
   "display_name": "Python 3 (ipykernel)",
   "language": "python",
   "name": "python3"
  },
  "language_info": {
   "codemirror_mode": {
    "name": "ipython",
    "version": 3
   },
   "file_extension": ".py",
   "mimetype": "text/x-python",
   "name": "python",
   "nbconvert_exporter": "python",
   "pygments_lexer": "ipython3",
   "version": "3.10.11"
  }
 },
 "nbformat": 4,
 "nbformat_minor": 5
}
